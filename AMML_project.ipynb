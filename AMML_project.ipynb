{
 "cells": [
  {
   "cell_type": "code",
   "execution_count": 97,
   "metadata": {},
   "outputs": [],
   "source": [
    "import pandas as pd\n",
    "import pylab as pl\n",
    "import numpy as np\n",
    "import scipy.optimize as opt\n",
    "from sklearn import preprocessing\n",
    "%matplotlib inline \n",
    "import matplotlib.pyplot as plt"
   ]
  },
  {
   "cell_type": "code",
   "execution_count": 624,
   "metadata": {},
   "outputs": [
    {
     "name": "stdout",
     "output_type": "stream",
     "text": [
      "(666, 29)\n",
      "  Number of characters in Original Name Month of Birth Year of Birth Gender  \\\n",
      "0                                    18            MAR            Y8      B   \n",
      "1                                    17            JAN            Y7      A   \n",
      "2                                    10            APR            Y8      B   \n",
      "3                                    10            JUL            Y8      B   \n",
      "4                                    12            NOV            Y7      A   \n",
      "\n",
      "  State (Location) 10th percentage 12th percentage 10th Completion Year  \\\n",
      "0                A            90.3              96                  Y14   \n",
      "1                B              85           65.33                  Y13   \n",
      "2                A            77.4            81.8                  Y14   \n",
      "3                C           90.16            95.3                  Y14   \n",
      "4                A            86.5            85.4                  Y14   \n",
      "\n",
      "  12th Completion year Degree of study  ... Quantitative Ability 3  \\\n",
      "0                  Y16               X  ...            47.48603352   \n",
      "1                  Y15               X  ...            62.01117318   \n",
      "2                  Y16               X  ...            76.53631285   \n",
      "3                  Y17               X  ...            57.54189944   \n",
      "4                  Y16               X  ...            57.54189944   \n",
      "\n",
      "  Quantitative Ability 4 Domain Skills 1 Domain Skills 2 Domain Test 3  \\\n",
      "0            49.13294798     21.42857143     45.32374101   43.44827586   \n",
      "1            53.75722543     32.14285714     52.51798561   61.37931034   \n",
      "2             54.9132948     58.92857143     75.53956835   71.03448276   \n",
      "3            46.82080925     42.85714286     71.22302158   53.10344828   \n",
      "4            58.38150289     46.42857143     68.34532374   55.86206897   \n",
      "\n",
      "  Domain Test 4 Analytical Skills 1 Analytical Skills 2 Analytical Skills 3  \\\n",
      "0   54.74452555                  60          58.2278481          72.4137931   \n",
      "1   51.82481752         63.63636364         37.97468354         83.90804598   \n",
      "2   70.80291971         70.90909091         73.41772152         70.11494253   \n",
      "3   56.20437956                  40         65.82278481         28.73563218   \n",
      "4   70.80291971         76.36363636         68.35443038         79.31034483   \n",
      "\n",
      "  Performance  \n",
      "0          MP  \n",
      "1          LP  \n",
      "2          BP  \n",
      "3          BP  \n",
      "4          BP  \n",
      "\n",
      "[5 rows x 29 columns]\n"
     ]
    }
   ],
   "source": [
    "#Data reading and cleaning\n",
    "data = pd.read_csv(\"AMML_dataset.csv\")\n",
    "data.columns = data.iloc[0]\n",
    "data = data.reindex(data.index.drop(0)).reset_index(drop=True)\n",
    "data.columns.name = None\n",
    "data.drop('Name',axis=1,inplace=True)\n",
    "data.drop('Candidate ID',axis=1,inplace=True)\n",
    "data=data.dropna(axis = 0, how ='any')\n",
    "data=data[:666]\n",
    "print(data.shape)\n",
    "print(data.head())\n"
   ]
  },
  {
   "cell_type": "code",
   "execution_count": 625,
   "metadata": {},
   "outputs": [],
   "source": [
    "#Data manipulation\n",
    "columns = list(data.columns)\n",
    "for i in range(len(columns)):\n",
    "    \n",
    "    max_value = data[columns[i]].describe(include='all').loc['top']\n",
    "    data[columns[i]]=data[columns[i]].replace('MD',max_value)\n",
    "    if columns[i] in req_names:\n",
    "        letter = preprocessing.LabelEncoder()\n",
    "        letter.fit(data[columns[i]].unique())\n",
    "        data[columns[i]] = letter.transform(data[columns[i]]).astype(int)\n",
    "    else:\n",
    "        temp_list = list(data[columns[i]])\n",
    "        data[columns[i]] = data[columns[i]].astype(float)"
   ]
  },
  {
   "cell_type": "code",
   "execution_count": 626,
   "metadata": {},
   "outputs": [
    {
     "name": "stdout",
     "output_type": "stream",
     "text": [
      "[[18.     7.     6.     1.     0.    90.3   96.     4.     4.     1.\n",
      "   2.    85.     1.    54.717 66.879 56.364 97.546 29.508 67.665 47.486\n",
      "  49.133 21.429 45.324 43.448 54.745 60.    58.228 72.414]\n",
      " [17.     4.     5.     0.     3.    85.    65.33   3.     3.     1.\n",
      "   1.    65.25   1.    33.962 65.605 63.636 59.509 50.82  76.048 62.011\n",
      "  53.757 32.143 52.518 61.379 51.825 63.636 37.975 83.908]\n",
      " [10.     0.     6.     1.     0.    77.4   81.8    4.     4.     1.\n",
      "   1.    75.51   1.    33.962 59.236 63.636 55.828 63.934 73.653 76.536\n",
      "  54.913 58.929 75.54  71.034 70.803 70.909 73.418 70.115]\n",
      " [10.     5.     6.     1.     4.    90.16  95.3    4.     5.     1.\n",
      "   1.    77.8    1.    45.283 64.331 61.212 65.644 32.787 50.898 57.542\n",
      "  46.821 42.857 71.223 53.103 56.204 40.    65.823 28.736]\n",
      " [12.     9.     5.     0.     0.    86.5   85.4    4.     4.     1.\n",
      "   1.    75.     1.    60.377 74.522 72.121 71.779 42.623 65.269 57.542\n",
      "  58.382 46.429 68.345 55.862 70.803 76.364 68.354 79.31 ]]\n",
      "[2 1 0 0 0]\n"
     ]
    }
   ],
   "source": [
    "X=np.asarray(data[columns[:len(columns)-1]])\n",
    "y=np.asarray(data[columns[-1]])\n",
    "print(X[0:5])\n",
    "print(y[0:5])"
   ]
  },
  {
   "cell_type": "code",
   "execution_count": 627,
   "metadata": {},
   "outputs": [
    {
     "data": {
      "text/plain": [
       "array([[ 1.42 ,  0.407,  1.152,  1.189, -1.357,  1.047,  1.681,  0.428,\n",
       "         0.354,  0.044, -0.715,  1.744,  0.039,  0.245, -0.289, -0.85 ,\n",
       "         2.719, -0.992,  0.353, -1.217, -1.257, -1.746, -1.726, -1.412,\n",
       "        -1.076, -0.356, -0.938,  0.579],\n",
       "       [ 1.108, -0.449, -0.049, -0.841, -0.873,  0.265, -1.699, -1.193,\n",
       "        -1.282,  0.044, -0.996, -1.063,  0.039, -0.99 , -0.411, -0.213,\n",
       "        -0.711,  0.407,  1.076,  0.136, -0.82 , -1.102, -1.195, -0.055,\n",
       "        -1.309, -0.11 , -2.424,  1.229],\n",
       "       [-1.071, -1.591,  1.152,  1.189, -1.357, -0.856,  0.117,  0.428,\n",
       "         0.354,  0.044, -0.996,  0.395,  0.039, -0.99 , -1.025, -0.213,\n",
       "        -1.043,  1.268,  0.869,  1.489, -0.71 ,  0.508,  0.504,  0.675,\n",
       "         0.206,  0.383,  0.176,  0.449],\n",
       "       [-1.071, -0.164,  1.152,  1.189, -0.712,  1.026,  1.604,  0.428,\n",
       "         1.99 ,  0.044, -0.996,  0.72 ,  0.039, -0.316, -0.534, -0.425,\n",
       "        -0.157, -0.777, -1.093, -0.28 , -1.476, -0.458,  0.186, -0.681,\n",
       "        -0.959, -1.712, -0.381, -1.892],\n",
       "       [-0.448,  0.977, -0.049, -0.841, -1.357,  0.486,  0.513,  0.428,\n",
       "         0.354,  0.044, -0.996,  0.322,  0.039,  0.581,  0.448,  0.531,\n",
       "         0.396, -0.131,  0.146, -0.28 , -0.382, -0.243, -0.027, -0.472,\n",
       "         0.206,  0.753, -0.195,  0.969]])"
      ]
     },
     "execution_count": 627,
     "metadata": {},
     "output_type": "execute_result"
    }
   ],
   "source": [
    "#Feature scaling of data\n",
    "from sklearn import preprocessing\n",
    "X = preprocessing.StandardScaler().fit(X).transform(X)\n",
    "X[0:5]"
   ]
  },
  {
   "cell_type": "code",
   "execution_count": 693,
   "metadata": {},
   "outputs": [
    {
     "name": "stdout",
     "output_type": "stream",
     "text": [
      "Train set: (532, 28) (532,)\n",
      "Test set: (134, 28) (134,)\n"
     ]
    }
   ],
   "source": [
    "#Splitting of data into training and testing data set\n",
    "from sklearn.model_selection import train_test_split\n",
    "X_train, X_test, y_train, y_test = train_test_split( X, y, test_size=0.2, random_state=9)\n",
    "print ('Train set:', X_train.shape,  y_train.shape)\n",
    "print ('Test set:', X_test.shape,  y_test.shape)"
   ]
  },
  {
   "cell_type": "code",
   "execution_count": 694,
   "metadata": {},
   "outputs": [],
   "source": [
    "#Building and training model\n",
    "from sklearn.linear_model import LogisticRegression\n",
    "from sklearn.metrics import confusion_matrix\n",
    "lp_class_weights={0:4.5,1:90,2:35}\n",
    "bp_class_weights={0:1.99,1:15,2:8}\n",
    "conservist_model = LogisticRegression(C=0.01, solver='liblinear',multi_class='ovr',class_weight=lp_class_weights).fit(X_train,y_train)\n",
    "liberals_model = LogisticRegression(C=0.01, solver='liblinear',multi_class='ovr',class_weight=bp_class_weights).fit(X_train,y_train)"
   ]
  },
  {
   "cell_type": "code",
   "execution_count": 695,
   "metadata": {},
   "outputs": [
    {
     "name": "stdout",
     "output_type": "stream",
     "text": [
      "[2 0 0 0 2 0 2 2 1 2 2 0 0 0 0 2 1 1 0 1 0 0 1 2 1 0 0 0 0 1 0 0 0 0 1 0 0\n",
      " 1 0 2 1 1 0 1 0 2 1 1 1 1 0 0 1 0 1 0 0 2 2 1 1 1 2 1 2 1 0 0 1 1 0 0 0 2\n",
      " 0 0 2 2 0 0 1 0 0 1 0 0 0 1 1 1 0 1 0 0 1 0 0 1 0 0 2 2 2 1 0 2 0 0 1 0 0\n",
      " 0 0 1 2 1 1 0 1 0 2 1 2 0 1 1 0 2 2 0 1 0 2 0]\n",
      "[2 0 0 0 1 0 2 2 0 0 0 0 0 0 0 0 0 1 0 1 0 0 1 2 2 0 0 0 0 0 0 0 0 0 1 0 0\n",
      " 0 0 2 0 2 0 0 0 0 0 2 0 0 0 0 0 0 1 0 0 2 2 1 0 1 2 1 0 1 0 0 0 1 0 0 0 2\n",
      " 0 0 2 2 0 0 0 0 0 1 0 0 0 1 0 1 0 0 0 0 2 0 0 1 0 0 2 2 2 1 0 2 0 0 1 0 0\n",
      " 0 0 0 2 1 1 0 1 0 2 1 0 0 0 0 0 2 2 0 0 0 2 0]\n",
      "[0 0 0 0 1 0 2 1 0 0 2 1 0 0 2 0 0 1 0 2 0 2 2 2 1 2 0 0 0 1 0 0 0 0 1 0 0\n",
      " 0 0 2 0 0 0 2 0 0 0 0 0 0 2 0 1 2 1 0 0 0 1 1 0 0 2 0 0 1 0 0 1 0 0 0 0 0\n",
      " 0 2 0 0 0 0 2 0 0 0 0 0 0 2 0 2 0 0 2 1 0 0 0 1 0 0 2 0 0 2 0 0 0 0 1 0 0\n",
      " 0 0 0 0 2 2 2 2 0 0 2 0 0 2 1 0 0 0 0 2 0 0 0]\n"
     ]
    }
   ],
   "source": [
    "#Testing the model\n",
    "conservist_prediction = conservist_model.predict(X_test)\n",
    "print(conservist_prediction)\n",
    "liberals_prediction = liberals_model.predict(X_test)\n",
    "print(liberals_prediction)\n",
    "print(y_test)"
   ]
  },
  {
   "cell_type": "code",
   "execution_count": 696,
   "metadata": {},
   "outputs": [
    {
     "name": "stdout",
     "output_type": "stream",
     "text": [
      "0.5373134328358209\n",
      "0.6194029850746269\n"
     ]
    },
    {
     "name": "stderr",
     "output_type": "stream",
     "text": [
      "F:\\Softwares\\Anaconda\\lib\\site-packages\\sklearn\\metrics\\classification.py:635: DeprecationWarning: jaccard_similarity_score has been deprecated and replaced with jaccard_score. It will be removed in version 0.23. This implementation has surprising behavior for binary and multiclass classification tasks.\n",
      "  'and multiclass classification tasks.', DeprecationWarning)\n",
      "F:\\Softwares\\Anaconda\\lib\\site-packages\\sklearn\\metrics\\classification.py:635: DeprecationWarning: jaccard_similarity_score has been deprecated and replaced with jaccard_score. It will be removed in version 0.23. This implementation has surprising behavior for binary and multiclass classification tasks.\n",
      "  'and multiclass classification tasks.', DeprecationWarning)\n"
     ]
    }
   ],
   "source": [
    "#Accuracy calculation using Jaccard similarity score\n",
    "from sklearn.metrics import jaccard_similarity_score\n",
    "print(jaccard_similarity_score(y_test, conservist_prediction))\n",
    "print(jaccard_similarity_score(y_test, liberals_prediction))"
   ]
  },
  {
   "cell_type": "code",
   "execution_count": 697,
   "metadata": {},
   "outputs": [],
   "source": [
    "#Building confusion matrix for the models.\n",
    "from sklearn.metrics import classification_report, confusion_matrix\n",
    "import itertools\n",
    "def plot_confusion_matrix(cm, classes,\n",
    "                          normalize=False,\n",
    "                          title='Confusion matrix',\n",
    "                          cmap=plt.cm.Blues):\n",
    "    if normalize:\n",
    "        cm = cm.astype('float') / cm.sum(axis=1)[:, np.newaxis]\n",
    "        print(\"Normalized confusion matrix\")\n",
    "    else:\n",
    "        print('Confusion matrix, without normalization')\n",
    "\n",
    "    print(cm)\n",
    "\n",
    "    plt.imshow(cm, interpolation='nearest', cmap=cmap)\n",
    "    plt.title(title)\n",
    "    plt.colorbar()\n",
    "    tick_marks = np.arange(len(classes))\n",
    "    plt.xticks(tick_marks, classes, rotation=45)\n",
    "    plt.yticks(tick_marks, classes)\n",
    "\n",
    "    fmt = '.2f' if normalize else 'd'\n",
    "    thresh = cm.max() / 2.\n",
    "    for i, j in itertools.product(range(cm.shape[0]), range(cm.shape[1])):\n",
    "        plt.text(j, i, format(cm[i, j], fmt),horizontalalignment=\"center\",color=\"white\" if cm[i, j] > thresh else \"black\")\n",
    "\n",
    "    plt.tight_layout()\n",
    "    plt.ylabel('True label')\n",
    "    plt.xlabel('Predicted label')"
   ]
  },
  {
   "cell_type": "code",
   "execution_count": 698,
   "metadata": {},
   "outputs": [
    {
     "name": "stdout",
     "output_type": "stream",
     "text": [
      "Confusion matrix, without normalization\n",
      "[[ 6 13  8]\n",
      " [ 3 12  2]\n",
      " [18 18 54]]\n"
     ]
    },
    {
     "data": {
      "image/png": "[encoded data removed]",
      "text/plain": [
       "<Figure size 432x288 with 2 Axes>"
      ]
     },
     "metadata": {
      "needs_background": "light"
     },
     "output_type": "display_data"
    }
   ],
   "source": [
    "#Plotting the confusion matrix\n",
    "conservist_cnf_matrix = confusion_matrix(y_test, conservist_prediction, labels=[2,1,0])\n",
    "liberals_cnf_matrix = confusion_matrix(y_test, liberals_prediction, labels=[2,1,0])\n",
    "np.set_printoptions(precision=3)\n",
    "plt.figure()\n",
    "plot_confusion_matrix(conservist_cnf_matrix, classes=['MP','LP','BP'],normalize= False,  title='Confusion matrix')\n"
   ]
  },
  {
   "cell_type": "code",
   "execution_count": 699,
   "metadata": {},
   "outputs": [
    {
     "name": "stdout",
     "output_type": "stream",
     "text": [
      "Confusion matrix, without normalization\n",
      "[[ 5  9 13]\n",
      " [ 3  8  6]\n",
      " [16  4 70]]\n"
     ]
    },
    {
     "data": {
      "image/png": "[encoded data removed]",
      "text/plain": [
       "<Figure size 432x288 with 2 Axes>"
      ]
     },
     "metadata": {
      "needs_background": "light"
     },
     "output_type": "display_data"
    }
   ],
   "source": [
    "plot_confusion_matrix(liberals_cnf_matrix, classes=['MP','LP','BP'],normalize= False,  title='Confusion matrix')"
   ]
  },
  {
   "cell_type": "code",
   "execution_count": 700,
   "metadata": {},
   "outputs": [
    {
     "name": "stdout",
     "output_type": "stream",
     "text": [
      "              precision    recall  f1-score   support\n",
      "\n",
      "           0       0.84      0.60      0.70        90\n",
      "           1       0.28      0.71      0.40        17\n",
      "           2       0.22      0.22      0.22        27\n",
      "\n",
      "    accuracy                           0.54       134\n",
      "   macro avg       0.45      0.51      0.44       134\n",
      "weighted avg       0.65      0.54      0.57       134\n",
      "\n",
      "              precision    recall  f1-score   support\n",
      "\n",
      "           0       0.79      0.78      0.78        90\n",
      "           1       0.38      0.47      0.42        17\n",
      "           2       0.21      0.19      0.20        27\n",
      "\n",
      "    accuracy                           0.62       134\n",
      "   macro avg       0.46      0.48      0.47       134\n",
      "weighted avg       0.62      0.62      0.62       134\n",
      "\n"
     ]
    }
   ],
   "source": [
    "print (classification_report(y_test, conservist_prediction))#Recall for low performers is 0.71\n",
    "print (classification_report(y_test, liberals_prediction))  #Recall for best performers is 0.78"
   ]
  }
 ],
 "metadata": {
  "kernelspec": {
   "display_name": "Python 3",
   "language": "python",
   "name": "python3"
  },
  "language_info": {
   "codemirror_mode": {
    "name": "ipython",
    "version": 3
   },
   "file_extension": ".py",
   "mimetype": "text/x-python",
   "name": "python",
   "nbconvert_exporter": "python",
   "pygments_lexer": "ipython3",
   "version": "3.7.4"
  }
 },
 "nbformat": 4,
 "nbformat_minor": 2
}
